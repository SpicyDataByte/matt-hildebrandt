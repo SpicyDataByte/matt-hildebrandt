{
 "cells": [
  {
   "cell_type": "markdown",
   "id": "71aded09-7a77-467a-84df-8d1f4e84aa89",
   "metadata": {},
   "source": [
    "![](http://spark.apache.org/images/spark-logo.png)\n"
   ]
  },
  {
   "cell_type": "markdown",
   "id": "79c0dade-1c69-4fdb-b376-16bde87a6593",
   "metadata": {},
   "source": [
    "Spark SQL is a Spark module for structured data processing. It is used to query structured data inside Spark programs, using either SQL or a familiar DataFrame API."
   ]
  },
  {
   "cell_type": "markdown",
   "id": "a35509a8-ddd2-45d8-a755-47d2f0da0495",
   "metadata": {},
   "source": [
    "## This Notebook Covers:\n",
    "* Load a data file into a dataframe\n",
    "* Create a Table View for the dataframe\n",
    "* Run basic SQL queries and aggregate data on the table view\n",
    "* Create a Pandas UDF to perform columnar operations\n"
   ]
  },
  {
   "cell_type": "markdown",
   "id": "d9dc4289-b171-4289-a4b1-aa7a4ee56d97",
   "metadata": {},
   "source": [
    "----\n"
   ]
  },
  {
   "cell_type": "markdown",
   "id": "47e29425-5799-4d87-a27a-4cc2a018b722",
   "metadata": {},
   "source": [
    "## Setup\n"
   ]
  },
  {
   "cell_type": "markdown",
   "id": "748c2b38-853e-4baa-9584-454fb0a9ee15",
   "metadata": {},
   "source": [
    "We are going to be using Python and Spark (PySpark). These libraries should be installed in your lab environment. Pandas is a popular data science package for Python. In this lab, we use Pandas to load a CSV file from disc to a pandas dataframe in memory. PySpark is the Spark API for Python. In this lab, we use PySpark to initialize the spark context. \n"
   ]
  },
  {
   "cell_type": "code",
   "execution_count": null,
   "id": "805d3a41-3736-4cb9-b05e-8e61104d58c9",
   "metadata": {},
   "outputs": [],
   "source": [
    "# Installing required packages\n",
    "!pip install pyspark\n",
    "!pip install findspark\n",
    "!pip install pyarrow==0.14.1 \n",
    "!pip install pandas\n",
    "!pip install numpy==1.19.5"
   ]
  },
  {
   "cell_type": "code",
   "execution_count": null,
   "id": "1abe4b48-e19f-4670-9081-c9bb4408e233",
   "metadata": {},
   "outputs": [],
   "source": [
    "import findspark\n",
    "findspark.init()"
   ]
  },
  {
   "cell_type": "code",
   "execution_count": null,
   "id": "7270a8ef-2eec-4fae-9d71-b162d17e3305",
   "metadata": {},
   "outputs": [],
   "source": [
    "import pandas as pd\n",
    "from pyspark import SparkContext, SparkConf\n",
    "from pyspark.sql import SparkSession"
   ]
  },
  {
   "cell_type": "markdown",
   "id": "7307fddf-aefa-4eba-8975-8e4c2d04def3",
   "metadata": {},
   "source": [
    "##  1 -  Spark session\n"
   ]
  },
  {
   "cell_type": "markdown",
   "id": "c16c1fff-53cf-4122-a5ff-eb9dbd4ecdd2",
   "metadata": {},
   "source": [
    "Create and initialize the Spark session needed to load the data frames and operate on it\n"
   ]
  },
  {
   "cell_type": "markdown",
   "id": "3d3db451-898f-461d-80b6-6a78f39e65c2",
   "metadata": {},
   "source": [
    "#### Task 1: Creating the spark session and context\n"
   ]
  },
  {
   "cell_type": "code",
   "execution_count": null,
   "id": "83f18db5-87f4-4559-9d84-9290358e955b",
   "metadata": {},
   "outputs": [],
   "source": [
    "# Creating a spark context class\n",
    "sc = SparkContext()\n",
    "\n",
    "# Creating a spark session\n",
    "spark = SparkSession \\\n",
    "    .builder \\\n",
    "    .appName(\"Python Spark DataFrames basic example\") \\\n",
    "    .config(\"spark.some.config.option\", \"some-value\") \\\n",
    "    .getOrCreate()"
   ]
  },
  {
   "cell_type": "markdown",
   "id": "bd51e4a4-acdb-4dc4-8f3d-8045d5b3ee8b",
   "metadata": {},
   "source": [
    "#### Task 2: Initialize Spark session\n",
    "To work with dataframes we just need to verify that the spark session instance has been created.\n"
   ]
  },
  {
   "cell_type": "code",
   "execution_count": null,
   "id": "75646b1d-651c-4c3d-abbe-b60446032399",
   "metadata": {},
   "outputs": [],
   "source": [
    "spark"
   ]
  },
  {
   "cell_type": "markdown",
   "id": "573db794-98e0-46b9-87ec-f831cf870947",
   "metadata": {},
   "source": [
    "##  2 - Loading the Data and creating a table view\n"
   ]
  },
  {
   "cell_type": "markdown",
   "id": "22a6a55d-e890-4205-8202-82f28fa79d09",
   "metadata": {},
   "source": [
    "In this section, you will first read the CSV file into a Pandas Dataframe and then read it into a Spark Dataframe\n",
    "Pandas is a library used for data manipulation and analysis. The Pandas library offers data structures and operations for creating and manipulating Data Series and DataFrame objects. Data can be imported from various data sources, e.g., Numpy arrays, Python dictionaries, and CSV files. Pandas allows you to manipulate, organize and display the data.\n",
    "\n",
    "To create a Spark DataFrame we load an external DataFrame, called `mtcars`. This DataFrame includes 32 observations on 11 variables:\n",
    "\n",
    "| colIndex | colName | units/description |\n",
    "| :---: | :--- | :--- |\n",
    "|[, 1] | mpg |Miles per gallon  |\n",
    "|[, 2] | cyl | Number of cylinders  |\n",
    "|[, 3] | disp | Displacement (cu.in.) |  \n",
    "|[, 4] | hp  | Gross horsepower  |\n",
    "|[, 5] | drat | Rear axle ratio  |\n",
    "|[, 6] | wt | Weight (lb/1000)  |\n",
    "|[, 7] | qsec | 1/4 mile time  |\n",
    "|[, 8] | vs  | V/S  |\n",
    "|[, 9] | am | Transmission (0 = automatic, 1 = manual)  |\n",
    "|[,10] | gear | Number of forward gears  |\n",
    "|[,11] | carb | Number of carburetors |\n"
   ]
  },
  {
   "cell_type": "markdown",
   "id": "e5b6159d-3f54-4403-a8bd-aac474dbf2f0",
   "metadata": {},
   "source": [
    "#### Task 1: Load data into a Pandas DataFrame.\n",
    "\n",
    "Pandas has a convenient function to load CSV data from a URL directly into a pandas dataframe.\n"
   ]
  },
  {
   "cell_type": "code",
   "execution_count": null,
   "id": "f929b6f2-8464-4f60-9550-e05a6798db1c",
   "metadata": {},
   "outputs": [],
   "source": [
    "# Read the file using `read_csv` function in pandas\n",
    "mtcars = pd.read_csv('https://blahblahblah.cloudstorage/myfile.csv')"
   ]
  },
  {
   "cell_type": "code",
   "execution_count": null,
   "id": "2ae228a8-5d9a-4fe0-8475-c62f8d469225",
   "metadata": {},
   "outputs": [],
   "source": [
    "# Preview a few records\n",
    "mtcars.head()"
   ]
  },
  {
   "cell_type": "code",
   "execution_count": null,
   "id": "1c45e9ae-c3f8-419e-9b27-2c4e10d72b9a",
   "metadata": {},
   "outputs": [],
   "source": [
    "mtcars.rename( columns={'Unnamed: 0':'name'}, inplace=True )"
   ]
  },
  {
   "cell_type": "markdown",
   "id": "0250d23b-2d61-4ea0-ae40-763336809869",
   "metadata": {},
   "source": [
    "#### Task 2: Loading data into a Spark DataFrame\n"
   ]
  },
  {
   "cell_type": "markdown",
   "id": "dd5cb36b-dbc1-4af7-8175-577d730fd523",
   "metadata": {},
   "source": [
    "We use the `createDataFrame` function to load the data into a spark dataframe\n"
   ]
  },
  {
   "cell_type": "code",
   "execution_count": null,
   "id": "1e9bd504-a06e-41e7-ad99-24da518eab71",
   "metadata": {},
   "outputs": [],
   "source": [
    "sdf = spark.createDataFrame(mtcars) "
   ]
  },
  {
   "cell_type": "markdown",
   "id": "913f3612-188f-4bc3-91a9-fb174dad2d53",
   "metadata": {},
   "source": [
    "Let us look at the schema of the loaded spark dataframe\n"
   ]
  },
  {
   "cell_type": "code",
   "execution_count": null,
   "id": "fc12b56f-a0c2-4fd5-8357-9ffe252fa566",
   "metadata": {},
   "outputs": [],
   "source": [
    "sdf.printSchema()"
   ]
  },
  {
   "cell_type": "markdown",
   "id": "53084a4c-60ef-4e4e-b0a5-497b5ea4a02c",
   "metadata": {},
   "source": [
    "#### Task 3: Rename the existing column name \"vs\" to \"versus\" and assign the new result DataFrame to a variable, \"sdf_new\". \n",
    "\n",
    "The function `withColumnRenamed()` is renames the existing column names.  \n",
    " \n"
   ]
  },
  {
   "cell_type": "code",
   "execution_count": null,
   "id": "0498957d-0c2d-4e78-a568-34510c48b0ec",
   "metadata": {},
   "outputs": [],
   "source": [
    "sdf_new = sdf.withColumnRenamed(\"vs\", \"versus\")"
   ]
  },
  {
   "cell_type": "markdown",
   "id": "005bbf2e-1606-471a-ab59-c312bf75cd55",
   "metadata": {},
   "source": [
    "The execution of the above function doesn’t modify the original DataFrame `sdf`, instead, a new DataFrame `sdf_new` is created with the renamed column. \n"
   ]
  },
  {
   "cell_type": "markdown",
   "id": "c7ba9b42-64ea-43ba-9d33-98e710958710",
   "metadata": {},
   "source": [
    "#### Task 4: View the new dataframe\n"
   ]
  },
  {
   "cell_type": "code",
   "execution_count": null,
   "id": "273139d3-87b4-422c-b404-c50a0c511491",
   "metadata": {},
   "outputs": [],
   "source": [
    "sdf_new.head(5)"
   ]
  },
  {
   "cell_type": "markdown",
   "id": "3dc0821c-2c64-4647-b9fc-8d60c309f761",
   "metadata": {},
   "source": [
    "Observe how `vs` has now been renamed to `versus` in this dataframe.\n"
   ]
  },
  {
   "cell_type": "markdown",
   "id": "4b2795fe-0b9f-4c4d-9f33-1a56ab5f7543",
   "metadata": {},
   "source": [
    "#### Task 4: Create a Table View\n",
    "Creating a table view in Spark SQL is required to run SQL queries programmatically on a DataFrame. A view is a temporary table to run SQL queries. A Temporary view provides local scope within the current Spark session. In this example we create a temporary view using the `createTempView()` function\n"
   ]
  },
  {
   "cell_type": "code",
   "execution_count": null,
   "id": "16931256-3a8a-432c-90b9-fdf2c86eee23",
   "metadata": {},
   "outputs": [],
   "source": [
    "sdf.createTempView(\"cars\")"
   ]
  },
  {
   "cell_type": "markdown",
   "id": "562bc2f4-940e-498b-a9ae-7300e6ea215c",
   "metadata": {},
   "source": [
    "##  3 - Running SQL queries and aggregating data\n"
   ]
  },
  {
   "cell_type": "markdown",
   "id": "674be651-38c5-4fc4-a013-46ef982ec605",
   "metadata": {},
   "source": [
    "Once we have a table view, we can run queries similar to querying a SQL table. We perform similar operations to the ones in the DataFrames notebook. Note the difference here however is that we use the SQL queries directly. \n"
   ]
  },
  {
   "cell_type": "code",
   "execution_count": null,
   "id": "af941bc2-28d3-4853-96a6-736c86f63c1d",
   "metadata": {},
   "outputs": [],
   "source": [
    "# Showing the whole table\n",
    "spark.sql(\"SELECT * FROM cars\").show()"
   ]
  },
  {
   "cell_type": "code",
   "execution_count": null,
   "id": "b2887585-7ddd-4c4a-ad67-8547053214fd",
   "metadata": {},
   "outputs": [],
   "source": [
    "# Showing a specific column\n",
    "spark.sql(\"SELECT mpg FROM cars\").show(5)"
   ]
  },
  {
   "cell_type": "code",
   "execution_count": null,
   "id": "a3e3c35d-b131-4e8b-885d-a8fffebd947a",
   "metadata": {},
   "outputs": [],
   "source": [
    "# Basic filtering query to determine cars that have a high mileage and low cylinder count\n",
    "spark.sql(\"SELECT * FROM cars where mpg>20 AND cyl < 6\").show(5)"
   ]
  },
  {
   "cell_type": "code",
   "execution_count": null,
   "id": "680acc49-14b3-4d12-b828-0161730a393a",
   "metadata": {},
   "outputs": [],
   "source": [
    "# Use where method to get list of cars that have miles per gallon is less than 18\n",
    "sdf.where(sdf['mpg'] < 18).show(3) "
   ]
  },
  {
   "cell_type": "code",
   "execution_count": null,
   "id": "29e5dba6-e457-408f-a71b-2ae414e7e6a8",
   "metadata": {},
   "outputs": [],
   "source": [
    "# Aggregating data and grouping by cylinders\n",
    "spark.sql(\"SELECT count(*), cyl from cars GROUP BY cyl\").show()"
   ]
  },
  {
   "cell_type": "markdown",
   "id": "c74ce07b-c598-40c0-9647-cccdb4b630b3",
   "metadata": {},
   "source": [
    "## 4 - Create a Pandas UDF to apply a columnar operation\n",
    "\n"
   ]
  },
  {
   "cell_type": "markdown",
   "metadata": {},
   "source": [
    "Apache Spark has become the de-facto standard in processing big data. To enable data scientists to leverage the value of big data, Spark added a Python API in version 0.7, with support for user-defined functions (UDF). These user-defined functions operate one-row-at-a-time, and thus suffer from high serialization and invocation overhead. As a result, many data pipelines define UDFs in Java and Scala and then invoke them from Python.\n",
    "\n",
    "Pandas UDFs built on top of Apache Arrow bring you the _best of both worlds_—the ability to define low-overhead, high-performance UDFs entirely in Python. In this simple example, we will build a Scalar Pandas UDF to convert the wT column from imperial units (1000-lbs) to metric units (metric tons).\n",
    "\n",
    "In addition, UDFs can be registered and invoked in SQL out of the box by registering a regular python function using the `@pandas_udf()` decorator. We can then apply this UDF to our `wt` column. "
   ]
  },
  {
   "cell_type": "markdown",
   "id": "77a20b8a-2973-4426-ab74-d0dbdcada7e5",
   "metadata": {},
   "source": [
    "#### Task 1: Importing libraries and registering a UDF\n"
   ]
  },
  {
   "cell_type": "code",
   "execution_count": null,
   "id": "9b2433a6-5be8-4fa8-a4af-9c72fc6c3d14",
   "metadata": {},
   "outputs": [],
   "source": [
    "# import the Pandas UDF function \n",
    "from pyspark.sql.functions import pandas_udf, PandasUDFType"
   ]
  },
  {
   "cell_type": "code",
   "execution_count": null,
   "id": "22e9d493-2ede-4459-8f96-2a2b6e6a7f7f",
   "metadata": {},
   "outputs": [],
   "source": [
    "@pandas_udf(\"float\")\n",
    "def convert_wt(s: pd.Series) -> pd.Series:\n",
    "    # The formula for converting from imperial to metric tons\n",
    "    return s * 0.45\n",
    "\n",
    "spark.udf.register(\"convert_weight\", convert_wt)"
   ]
  },
  {
   "cell_type": "markdown",
   "id": "6154d577-ec6e-4a6a-ab60-9e51d4a56f16",
   "metadata": {},
   "source": [
    "#### Task 2: Applying the UDF to the tableview\n",
    "\n",
    "We can now apply the `convert_weight` user-defined-function to our `wt` column from the `cars` table view. This is done very simply using the SQL query shown below. In this example below we show both the original weight (in ton-lbs) and converted weight (in metric tons). \n"
   ]
  },
  {
   "cell_type": "code",
   "execution_count": null,
   "id": "64183a31-90e5-4000-b1c0-42676eef91f3",
   "metadata": {},
   "outputs": [],
   "source": [
    "spark.sql(\"SELECT *, wt AS weight_imperial, convert_weight(wt) as weight_metric FROM cars\").show()"
   ]
  },
  {
   "cell_type": "markdown",
   "id": "406d4f01-af41-4812-af3a-8755f662b204",
   "metadata": {},
   "source": [
    "## 5 - Combining DataFrames based on a specific condition. \n"
   ]
  },
  {
   "cell_type": "markdown",
   "id": "c9869c28-46a6-4340-a46e-e7c762fe9df3",
   "metadata": {},
   "source": [
    "#### Task 1 - Understanding JOIN operation\n"
   ]
  },
  {
   "cell_type": "code",
   "execution_count": null,
   "id": "997bf3da-4c1e-493f-adb2-f5bdef8255f9",
   "metadata": {},
   "outputs": [],
   "source": [
    "# define sample DataFrame 1 \n",
    "\n",
    "data = [(\"A101\", \"John\"), (\"A102\", \"Peter\"), (\"A103\", \"Charlie\")] \n",
    "\n",
    "columns = [\"emp_id\", \"emp_name\"]\n",
    "\n",
    "dataframe_1 = spark.createDataFrame(data, columns)"
   ]
  },
  {
   "cell_type": "code",
   "execution_count": null,
   "id": "14c36b1e-9384-49b0-9663-c41aef29d9dc",
   "metadata": {},
   "outputs": [],
   "source": [
    "# define sample DataFrame 2\n",
    "\n",
    "data = [(\"A101\", 3250), (\"A102\", 6735), (\"A103\", 8650)] \n",
    "\n",
    "columns = [\"emp_id\", \"salary\"] \n",
    "\n",
    "dataframe_2 = spark.createDataFrame(data, columns) "
   ]
  },
  {
   "cell_type": "code",
   "execution_count": null,
   "id": "53f794f6-8bb7-467f-8ef3-d06b8f999384",
   "metadata": {},
   "outputs": [],
   "source": [
    "# create a new DataFrame, \"combined_df\" by performing an inner join \n",
    "\n",
    "combined_df = dataframe_1.join(dataframe_2, on=\"emp_id\", how=\"inner\") "
   ]
  },
  {
   "cell_type": "code",
   "execution_count": null,
   "id": "c4dcc80b-afd4-4c7e-9d5f-a7d41f763b71",
   "metadata": {},
   "outputs": [],
   "source": [
    "# Show the data in combined_df as a list of Row.\n",
    "\n",
    "combined_df.collect()"
   ]
  },
  {
   "cell_type": "markdown",
   "id": "16f365d2-8bc0-4990-ad14-13a790c28a8f",
   "metadata": {},
   "source": [
    "#### Task 2 Filling the missing values \n"
   ]
  },
  {
   "cell_type": "code",
   "execution_count": null,
   "id": "e3666fb1-1c5c-4587-9e4c-a8447ad06239",
   "metadata": {},
   "outputs": [],
   "source": [
    "# define sample DataFrame 1 with some missing values\n",
    "\n",
    "data = [(\"A101\", 1000), (\"A102\", 2000), (\"A103\",None)]\n",
    "\n",
    "columns = [\"emp_id\", \"salary\"]\n",
    "\n",
    "dataframe_1 = spark.createDataFrame(data, columns)\n"
   ]
  },
  {
   "cell_type": "code",
   "execution_count": null,
   "id": "4bfdfa1a-2d14-426a-b761-246296f750d3",
   "metadata": {},
   "outputs": [],
   "source": [
    "dataframe_1.head(3)"
   ]
  },
  {
   "cell_type": "markdown",
   "id": "34d6fec8-a0ef-43d0-81be-47c827418c68",
   "metadata": {},
   "source": [
    "You will see that an error is thrown as the dataframe has null value.\n"
   ]
  },
  {
   "cell_type": "markdown",
   "id": "eb468b41-76b5-4731-bbf1-44e3fbc1fbbb",
   "metadata": {},
   "source": [
    "Note that the third record of the DataFrame \"dataframe_1\", the column “salary”, contains null(\"na\") value. It can be filled with a value by using the function \"fillna()\". \n"
   ]
  },
  {
   "cell_type": "code",
   "execution_count": null,
   "id": "00987353-8d41-49ce-8115-62faa5d1046d",
   "metadata": {},
   "outputs": [],
   "source": [
    "# fill missing salary value with a specified value\n",
    "\n",
    "filled_df = dataframe_1.fillna({\"salary\": 3000})"
   ]
  },
  {
   "cell_type": "code",
   "execution_count": null,
   "id": "d8daa1a7-3a1f-4094-81aa-fb8a0da0082d",
   "metadata": {},
   "outputs": [],
   "source": [
    "filled_df.head(3)"
   ]
  },
  {
   "cell_type": "markdown",
   "id": "429f9e27-0104-4376-84b1-5bbbbdd8e64d",
   "metadata": {},
   "source": [
    "### User Defined Functions\n"
   ]
  },
  {
   "cell_type": "markdown",
   "id": "3a7e06b5-0d34-49b9-8864-efd5311e5915",
   "metadata": {},
   "source": [
    "In this notebook, we created a UDF to convert weight from imperial to metric units. Now for this exercise, please create a pandas UDF to convert the `mpg` column to `kmpl` (kilometers per liter). You can use the conversion factor of 0.425.\n"
   ]
  },
  {
   "cell_type": "code",
   "execution_count": null,
   "id": "355373ac-9c60-4a60-82ca-aa278b6af7cd",
   "metadata": {},
   "outputs": [],
   "source": [
    "# Code block for learners to answer\n",
    "from pyspark.sql.functions import pandas_udf\n",
    "\n",
    "@pandas_udf(\"float\")\n",
    "def convert_mileage(s: pd.Series) -> pd.Series:\n",
    "    # The formula for converting from imperial to metric tons\n",
    "    return s * 0.425\n",
    "\n",
    "spark.udf.register(\"convert_mileage\", convert_mileage)\n",
    "\n",
    "spark.sql(\"SELECT *, mpg AS mpg, convert_mileage(mpg) as kmpl FROM cars\").show()"
   ]
  }
 ],
 "metadata": {
  "kernelspec": {
   "display_name": "Python 3",
   "language": "python",
   "name": "python3"
  },
  "language_info": {
   "codemirror_mode": {
    "name": "ipython",
    "version": 3
   },
   "file_extension": ".py",
   "mimetype": "text/x-python",
   "name": "python",
   "nbconvert_exporter": "python",
   "pygments_lexer": "ipython3",
   "version": "3.11.8"
  }
 },
 "nbformat": 4,
 "nbformat_minor": 4
}
