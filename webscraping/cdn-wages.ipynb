{
 "cells": [
  {
   "cell_type": "code",
   "execution_count": null,
   "metadata": {},
   "outputs": [],
   "source": [
    "!pip install html5lib\n",
    "!pip install requests\n",
    "!pip install bs4"
   ]
  },
  {
   "cell_type": "code",
   "execution_count": 4,
   "metadata": {},
   "outputs": [],
   "source": [
    "import requests\n",
    "import pandas as pd\n",
    "from bs4 import BeautifulSoup\n",
    "# from io import StringIO"
   ]
  },
  {
   "cell_type": "code",
   "execution_count": 5,
   "metadata": {},
   "outputs": [],
   "source": [
    "url = \"https://open.canada.ca/data/dataset/adad580f-76b0-4502-bd05-20c125de9116/resource/ff45366b-1c17-4862-8325-f6e7797c7c56/download/2a71-das-wage2023opendata-esdc-all-28nov2023-vf.csv\"\n",
    "filename = 'cdn-wages.csv'\n"
   ]
  },
  {
   "cell_type": "code",
   "execution_count": null,
   "metadata": {},
   "outputs": [],
   "source": [
    "df = pd.read_csv(url)\n",
    "df.head()"
   ]
  },
  {
   "cell_type": "code",
   "execution_count": 9,
   "metadata": {},
   "outputs": [
    {
     "data": {
      "text/plain": [
       "(44376, 18)"
      ]
     },
     "execution_count": 9,
     "metadata": {},
     "output_type": "execute_result"
    }
   ],
   "source": [
    "df.shape"
   ]
  },
  {
   "cell_type": "code",
   "execution_count": 10,
   "metadata": {},
   "outputs": [
    {
     "data": {
      "text/plain": [
       "NOC_CNP                             object\n",
       "NOC_TITLE_ENG                       object\n",
       "NOC_TITLE_FRA                       object\n",
       "prov                                object\n",
       "ER_Code_Code_RE                     object\n",
       "ER_Name                             object\n",
       "Nom_RE                              object\n",
       "Low_Wage_Salaire_Minium            float64\n",
       "Median_Wage_Salaire_Median         float64\n",
       "High_Wage_Salaire_Maximal          float64\n",
       "Average_Wage_Salaire_Moyen         float64\n",
       "Data_Source_E                       object\n",
       "Data_Source_F                       object\n",
       "Reference_Period                    object\n",
       "Revision_Date_Date_revision         object\n",
       "Annual_Wage_Flag_Salaire_annuel      int64\n",
       "Wage_Comment_E                      object\n",
       "Wage_Comment_F                      object\n",
       "dtype: object"
      ]
     },
     "execution_count": 10,
     "metadata": {},
     "output_type": "execute_result"
    }
   ],
   "source": [
    "df.dtypes\n",
    "#object will have mixed types"
   ]
  },
  {
   "cell_type": "code",
   "execution_count": null,
   "metadata": {},
   "outputs": [
    {
     "data": {
      "text/plain": [
       "NOC_CNP                                0\n",
       "NOC_TITLE_ENG                          0\n",
       "NOC_TITLE_FRA                          0\n",
       "prov                                 516\n",
       "ER_Code_Code_RE                        0\n",
       "ER_Name                                0\n",
       "Nom_RE                                 0\n",
       "Low_Wage_Salaire_Minium            24760\n",
       "Median_Wage_Salaire_Median         23554\n",
       "High_Wage_Salaire_Maximal          24754\n",
       "Average_Wage_Salaire_Moyen         24739\n",
       "Data_Source_E                      23554\n",
       "Data_Source_F                      23554\n",
       "Reference_Period                   23553\n",
       "Revision_Date_Date_revision            0\n",
       "Annual_Wage_Flag_Salaire_annuel        0\n",
       "Wage_Comment_E                     43914\n",
       "Wage_Comment_F                     43914\n",
       "dtype: int64"
      ]
     },
     "execution_count": 12,
     "metadata": {},
     "output_type": "execute_result"
    }
   ],
   "source": [
    "df.isnull().sum()"
   ]
  },
  {
   "cell_type": "code",
   "execution_count": 13,
   "metadata": {},
   "outputs": [
    {
     "data": {
      "text/plain": [
       "0"
      ]
     },
     "execution_count": 13,
     "metadata": {},
     "output_type": "execute_result"
    }
   ],
   "source": [
    "df.duplicated().sum()"
   ]
  },
  {
   "cell_type": "code",
   "execution_count": null,
   "metadata": {},
   "outputs": [],
   "source": [
    "df.describe()"
   ]
  },
  {
   "cell_type": "code",
   "execution_count": 27,
   "metadata": {},
   "outputs": [
    {
     "data": {
      "text/html": [
       "<div>\n",
       "<style scoped>\n",
       "    .dataframe tbody tr th:only-of-type {\n",
       "        vertical-align: middle;\n",
       "    }\n",
       "\n",
       "    .dataframe tbody tr th {\n",
       "        vertical-align: top;\n",
       "    }\n",
       "\n",
       "    .dataframe thead th {\n",
       "        text-align: right;\n",
       "    }\n",
       "</style>\n",
       "<table border=\"1\" class=\"dataframe\">\n",
       "  <thead>\n",
       "    <tr style=\"text-align: right;\">\n",
       "      <th></th>\n",
       "      <th>Low_Wage_Salaire_Minium</th>\n",
       "      <th>Median_Wage_Salaire_Median</th>\n",
       "      <th>High_Wage_Salaire_Maximal</th>\n",
       "      <th>Average_Wage_Salaire_Moyen</th>\n",
       "      <th>Annual_Wage_Flag_Salaire_annuel</th>\n",
       "    </tr>\n",
       "  </thead>\n",
       "  <tbody>\n",
       "    <tr>\n",
       "      <th>count</th>\n",
       "      <td>19616.000000</td>\n",
       "      <td>20822.000000</td>\n",
       "      <td>19622.000000</td>\n",
       "      <td>19637.000000</td>\n",
       "      <td>44376.000000</td>\n",
       "    </tr>\n",
       "    <tr>\n",
       "      <th>mean</th>\n",
       "      <td>699.287798</td>\n",
       "      <td>65159.416037</td>\n",
       "      <td>2275.081461</td>\n",
       "      <td>1762.380619</td>\n",
       "      <td>0.027335</td>\n",
       "    </tr>\n",
       "    <tr>\n",
       "      <th>std</th>\n",
       "      <td>9991.966362</td>\n",
       "      <td>26325.333242</td>\n",
       "      <td>27160.572867</td>\n",
       "      <td>14774.857474</td>\n",
       "      <td>0.163058</td>\n",
       "    </tr>\n",
       "    <tr>\n",
       "      <th>min</th>\n",
       "      <td>14.000000</td>\n",
       "      <td>29120.000000</td>\n",
       "      <td>14.650000</td>\n",
       "      <td>7.690000</td>\n",
       "      <td>0.000000</td>\n",
       "    </tr>\n",
       "    <tr>\n",
       "      <th>25%</th>\n",
       "      <td>16.550000</td>\n",
       "      <td>45760.000000</td>\n",
       "      <td>30.002500</td>\n",
       "      <td>23.170000</td>\n",
       "      <td>0.000000</td>\n",
       "    </tr>\n",
       "    <tr>\n",
       "      <th>50%</th>\n",
       "      <td>19.980000</td>\n",
       "      <td>60320.000000</td>\n",
       "      <td>41.935000</td>\n",
       "      <td>30.650000</td>\n",
       "      <td>0.000000</td>\n",
       "    </tr>\n",
       "    <tr>\n",
       "      <th>75%</th>\n",
       "      <td>25.000000</td>\n",
       "      <td>79996.800000</td>\n",
       "      <td>54.330000</td>\n",
       "      <td>40.050000</td>\n",
       "      <td>0.000000</td>\n",
       "    </tr>\n",
       "    <tr>\n",
       "      <th>max</th>\n",
       "      <td>395700.000000</td>\n",
       "      <td>432576.000000</td>\n",
       "      <td>878449.000000</td>\n",
       "      <td>401866.670000</td>\n",
       "      <td>1.000000</td>\n",
       "    </tr>\n",
       "  </tbody>\n",
       "</table>\n",
       "</div>"
      ],
      "text/plain": [
       "       Low_Wage_Salaire_Minium  Median_Wage_Salaire_Median  \\\n",
       "count             19616.000000                20822.000000   \n",
       "mean                699.287798                65159.416037   \n",
       "std                9991.966362                26325.333242   \n",
       "min                  14.000000                29120.000000   \n",
       "25%                  16.550000                45760.000000   \n",
       "50%                  19.980000                60320.000000   \n",
       "75%                  25.000000                79996.800000   \n",
       "max              395700.000000               432576.000000   \n",
       "\n",
       "       High_Wage_Salaire_Maximal  Average_Wage_Salaire_Moyen  \\\n",
       "count               19622.000000                19637.000000   \n",
       "mean                 2275.081461                 1762.380619   \n",
       "std                 27160.572867                14774.857474   \n",
       "min                    14.650000                    7.690000   \n",
       "25%                    30.002500                   23.170000   \n",
       "50%                    41.935000                   30.650000   \n",
       "75%                    54.330000                   40.050000   \n",
       "max                878449.000000               401866.670000   \n",
       "\n",
       "       Annual_Wage_Flag_Salaire_annuel  \n",
       "count                     44376.000000  \n",
       "mean                          0.027335  \n",
       "std                           0.163058  \n",
       "min                           0.000000  \n",
       "25%                           0.000000  \n",
       "50%                           0.000000  \n",
       "75%                           0.000000  \n",
       "max                           1.000000  "
      ]
     },
     "execution_count": 27,
     "metadata": {},
     "output_type": "execute_result"
    }
   ],
   "source": [
    "\n",
    "# Convert values to numeric, replacing non-numeric values with NaN\n",
    "df['Median_Wage_Salaire_Median'] = pd.to_numeric(df['Median_Wage_Salaire_Median'], errors='coerce')\n",
    "\n",
    "# Identify units and convert to $/year or $/hr\n",
    "df['Median_Wage_Salaire_Median'] = df['Median_Wage_Salaire_Median'].apply(lambda x: float(round(x * 2080)) if 0 < x < 1000 else float(x))\n",
    "\n",
    "# Display the updated DataFrame\n",
    "df.describe()\n"
   ]
  },
  {
   "cell_type": "code",
   "execution_count": 28,
   "metadata": {},
   "outputs": [],
   "source": [
    "df.to_csv('cdn-wages.csv', index=True)"
   ]
  }
 ],
 "metadata": {
  "kernelspec": {
   "display_name": "Python 3",
   "language": "python",
   "name": "python3"
  },
  "language_info": {
   "codemirror_mode": {
    "name": "ipython",
    "version": 3
   },
   "file_extension": ".py",
   "mimetype": "text/x-python",
   "name": "python",
   "nbconvert_exporter": "python",
   "pygments_lexer": "ipython3",
   "version": "3.10.2"
  }
 },
 "nbformat": 4,
 "nbformat_minor": 2
}
