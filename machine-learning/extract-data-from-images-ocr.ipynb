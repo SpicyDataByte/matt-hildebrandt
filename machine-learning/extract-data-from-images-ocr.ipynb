{
 "cells": [
  {
   "cell_type": "code",
   "execution_count": null,
   "metadata": {},
   "outputs": [],
   "source": [
    "import easyocr\n",
    "\n",
    "# Initialize the reader\n",
    "reader = easyocr.Reader(['en'])  # Specify language(s)\n",
    "\n",
    "# Perform OCR\n",
    "results = reader.readtext(r\"C:\\Users\\mthil\\local\\DE\\Data-Engineering\\ocr\\ocr-images\\20241223_095814.jpg\")\n",
    "for (bbox, text, confidence) in results:\n",
    "    print(f\"Detected text: {text} (Confidence: {confidence})\")"
   ]
  },
  {
   "cell_type": "code",
   "execution_count": 103,
   "metadata": {},
   "outputs": [],
   "source": [
    "def group_items(results, vertical_threshold=430, horizontal_separation=300):\n",
    "    \"\"\"\n",
    "    Groups OCR results into clusters based on vertical proximity and logical horizontal separation.\n",
    "\n",
    "    Args:\n",
    "        results (list): List of OCR results containing bounding boxes and text.\n",
    "        vertical_threshold (int): Maximum vertical distance between items to be grouped.\n",
    "        horizontal_separation (int): Minimum horizontal distance to separate groups.\n",
    "\n",
    "    Returns:\n",
    "        list: List of grouped items, where each group is a list of texts.\n",
    "    \"\"\"\n",
    "    def get_y_range(bbox):\n",
    "        \"\"\"Return the vertical range (top and bottom) of a bounding box.\"\"\"\n",
    "        top_left, _, bottom_right, _ = bbox\n",
    "        return top_left[1], bottom_right[1]\n",
    "\n",
    "    def get_x_range(bbox):\n",
    "        \"\"\"Return the horizontal range (left and right) of a bounding box.\"\"\"\n",
    "        top_left, _, bottom_right, _ = bbox\n",
    "        return top_left[0], bottom_right[0]\n",
    "\n",
    "    # Sort results by x-coordinate (left) first, then by y-coordinate (top)\n",
    "    results.sort(key=lambda x: (get_x_range(x[0])[0], get_y_range(x[0])[0]))\n",
    "\n",
    "    columns = []\n",
    "    for item in results:\n",
    "        bbox, text, confidence = item\n",
    "        x_left, x_right = get_x_range(bbox)\n",
    "        y_top, y_bottom = get_y_range(bbox)\n",
    "\n",
    "        # Check if the item belongs to an existing column\n",
    "        added_to_column = False\n",
    "        for column in columns:\n",
    "            # Compare with the last item's bounding box in the column\n",
    "            last_bbox = column[-1][0]\n",
    "            last_x_left, last_x_right = get_x_range(last_bbox)\n",
    "\n",
    "            # Use broader horizontal separation\n",
    "            if abs(x_left - last_x_left) <= horizontal_separation:\n",
    "                column.append(item)\n",
    "                added_to_column = True\n",
    "                break\n",
    "\n",
    "        # If not added to any column, start a new column\n",
    "        if not added_to_column:\n",
    "            columns.append([item])\n",
    "\n",
    "    # Group items within each column based on vertical proximity\n",
    "    final_groups = []\n",
    "    for column in columns:\n",
    "        column.sort(key=lambda x: get_y_range(x[0])[0])  # Sort by Y-coordinate within column\n",
    "        current_group = []\n",
    "        for item in column:\n",
    "            bbox, text, confidence = item\n",
    "            y_top, y_bottom = get_y_range(bbox)\n",
    "\n",
    "            if not current_group:\n",
    "                current_group.append(item)\n",
    "                continue\n",
    "\n",
    "            # Compare with the last item's bounding box in the current group\n",
    "            last_bbox = current_group[-1][0]\n",
    "            last_y_top, last_y_bottom = get_y_range(last_bbox)\n",
    "\n",
    "            # Use broader vertical threshold\n",
    "            if y_top - last_y_bottom <= vertical_threshold:\n",
    "                current_group.append(item)\n",
    "            else:\n",
    "                final_groups.append(current_group)\n",
    "                current_group = [item]\n",
    "\n",
    "        # Add the last group in the column\n",
    "        if current_group:\n",
    "            final_groups.append(current_group)\n",
    "\n",
    "    # Merge small groups or isolated items into larger ones (post-processing)\n",
    "    merged_groups = []\n",
    "    temp_group = []\n",
    "    for group in final_groups:\n",
    "        if len(group) <= 1 and len(temp_group) > 0:\n",
    "            # Merge with the last group if isolated\n",
    "            temp_group.extend(group)\n",
    "        else:\n",
    "            if temp_group:\n",
    "                merged_groups.append(temp_group)\n",
    "            temp_group = group\n",
    "\n",
    "    if temp_group:\n",
    "        merged_groups.append(temp_group)\n",
    "\n",
    "    # Convert groups to text-only format\n",
    "    grouped_texts = [\n",
    "        [text for _, text, _ in group]\n",
    "        for group in merged_groups\n",
    "    ]\n",
    "\n",
    "    return grouped_texts\n"
   ]
  },
  {
   "cell_type": "markdown",
   "metadata": {},
   "source": [
    "# Single File"
   ]
  },
  {
   "cell_type": "code",
   "execution_count": null,
   "metadata": {},
   "outputs": [],
   "source": [
    "import easyocr\n",
    "\n",
    "# Initialize the reader\n",
    "reader = easyocr.Reader(['en']) \n",
    "\n",
    "# Perform OCR\n",
    "results = reader.readtext(r\"C:\\Users\\mthil\\local\\DE\\Data-Engineering\\ignore\\ocr-images\\20241223_123132.jpg\")\n",
    "for (bbox, text, confidence) in results:\n",
    "    print(f\"Detected text: {text} (Confidence: {confidence})\")"
   ]
  },
  {
   "cell_type": "code",
   "execution_count": 8,
   "metadata": {},
   "outputs": [],
   "source": [
    "reader_model_lang = reader.getChar"
   ]
  },
  {
   "cell_type": "code",
   "execution_count": 9,
   "metadata": {},
   "outputs": [
    {
     "data": {
      "text/plain": [
       "<bound method Reader.getChar of <easyocr.easyocr.Reader object at 0x000001AF8E5716D0>>"
      ]
     },
     "execution_count": 9,
     "metadata": {},
     "output_type": "execute_result"
    }
   ],
   "source": [
    "reader_model_lang"
   ]
  },
  {
   "cell_type": "code",
   "execution_count": null,
   "metadata": {},
   "outputs": [],
   "source": [
    "grouped_text = group_items(results)\n",
    "\n",
    "# Display grouped text\n",
    "for i, group in enumerate(grouped_text, start=1):\n",
    "    print(f\"Group {i}: {group}\")"
   ]
  },
  {
   "cell_type": "markdown",
   "metadata": {},
   "source": [
    "# Multi File"
   ]
  },
  {
   "cell_type": "code",
   "execution_count": null,
   "metadata": {},
   "outputs": [],
   "source": [
    "import os\n",
    "import easyocr\n",
    "\n",
    "# Directory containing the images\n",
    "input_folder = r\"C:\\Users\\mthil\\local\\DE\\Data-Engineering\\ocr\\ocr-images\"\n",
    "# Directory where the results will be stored\n",
    "output_folder = r\"C:\\Users\\mthil\\local\\DE\\Data-Engineering\\ocr\\ocr-results\"\n",
    "\n",
    "# Create the output folder if it doesn't exist\n",
    "os.makedirs(output_folder, exist_ok=True)\n",
    "\n",
    "# Initialize EasyOCR reader\n",
    "reader = easyocr.Reader(['en'])  # Add other languages if needed\n",
    "\n",
    "# Loop through each image in the input folder\n",
    "for image_file in os.listdir(input_folder):\n",
    "    if image_file.lower().endswith(('.png', '.jpg', '.jpeg')):\n",
    "        # Full path of the image\n",
    "        image_path = os.path.join(input_folder, image_file)\n",
    "        \n",
    "        # Read text from the image\n",
    "        results = reader.readtext(image_path)\n",
    "        \n",
    "        # File to store results (one text file per image)\n",
    "        result_file_path = os.path.join(output_folder, f\"{os.path.splitext(image_file)[0]}_ocr_results.txt\")\n",
    "        \n",
    "        # Write results to the file\n",
    "        with open(result_file_path, 'w', encoding='utf-8') as f:\n",
    "            for result in results:\n",
    "                f.write(f\"{result},\\n\")\n",
    "        \n",
    "        print(f\"Results saved for {image_file} in {result_file_path}\")\n",
    "\n",
    "print(\"OCR processing complete!\")\n",
    "\n",
    "\n",
    "\n"
   ]
  },
  {
   "cell_type": "code",
   "execution_count": null,
   "metadata": {},
   "outputs": [],
   "source": [
    "# Process each OCR results file\n",
    "for txt_file in os.listdir(output_folder):\n",
    "    if txt_file.endswith(\"_ocr_results.txt\"):\n",
    "        txt_file_path = os.path.join(output_folder, txt_file)\n",
    "\n",
    "        # Read OCR results from the file\n",
    "        with open(txt_file_path, 'r', encoding='utf-8') as file:\n",
    "            raw_results = file.readlines()\n",
    "\n",
    "        # Convert raw string results to Python objects\n",
    "        results = [eval(line.strip().rstrip(',')) for line in raw_results]\n",
    "\n",
    "        # Apply grouping function\n",
    "        grouped_text = group_items(results)\n",
    "\n",
    "        # Save grouped results\n",
    "        grouped_file_path = os.path.join(output_folder, f\"grouped_{txt_file}\")\n",
    "        with open(grouped_file_path, 'w', encoding='utf-8') as file:\n",
    "            for i, group in enumerate(grouped_text, start=1):\n",
    "                file.write(f\"Group {i}: {group}\\n\")\n",
    "\n",
    "        print(f\"Grouped results saved for {txt_file} as {grouped_file_path}\")\n",
    "\n",
    "print(\"Grouping process complete!\")"
   ]
  }
 ],
 "metadata": {
  "kernelspec": {
   "display_name": "Python 3",
   "language": "python",
   "name": "python3"
  },
  "language_info": {
   "codemirror_mode": {
    "name": "ipython",
    "version": 3
   },
   "file_extension": ".py",
   "mimetype": "text/x-python",
   "name": "python",
   "nbconvert_exporter": "python",
   "pygments_lexer": "ipython3",
   "version": "3.11.8"
  }
 },
 "nbformat": 4,
 "nbformat_minor": 2
}
